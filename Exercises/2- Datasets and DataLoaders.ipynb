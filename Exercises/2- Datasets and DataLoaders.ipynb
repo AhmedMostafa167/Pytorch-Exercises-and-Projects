{
 "cells": [
  {
   "cell_type": "markdown",
   "metadata": {},
   "source": [
    "### Comprehensive Exercise: Combining Datasets, DataLoaders, and Tensor Operations\n",
    "\n",
    "#### Problem Statement:\n",
    "Build a mini machine learning pipeline using PyTorch's `Dataset` and `DataLoader` utilities. The exercise includes:\n",
    "1. **Custom Dataset**: Create a custom dataset class using `torch.utils.data.Dataset`. Use synthetic tensor data that mimics a regression task.\n",
    "2. **Data Transformation**: Apply tensor operations to preprocess the data within the `__getitem__` method of the dataset.\n",
    "3. **Model Training Preparation**: Use `DataLoader` for efficient data batching.\n",
    "4. **Integration**: Use knowledge from the \"Tensors and Tensor Operations\" tutorial to manipulate the data.\n",
    "\n",
    "#### Steps:\n",
    "1. **Create Synthetic Data**:\n",
    "   - Generate random tensors representing features (`X`) and labels (`y`) for a regression task, e.g., \\( y = 3x + \\text{noise} \\).\n",
    "   - Ensure the dataset contains 500 samples.\n",
    "\n",
    "2. **Implement a Custom Dataset**:\n",
    "   - Create a class `RegressionDataset` that subclasses `torch.utils.data.Dataset`.\n",
    "   - Override the `__len__` and `__getitem__` methods.\n",
    "   - In `__getitem__`, normalize the features (e.g., using mean and standard deviation).\n",
    "\n",
    "3. **Use DataLoader**:\n",
    "   - Create a `DataLoader` for the dataset with a batch size of 32.\n",
    "   - Shuffle the data during training and use `DataLoader` to iterate over batches.\n",
    "\n",
    "#### Deliverables:\n",
    "1. Custom Dataset class code.\n",
    "2. Code for tensor transformations within the dataset.\n",
    "3. DataLoader initialization and batch visualization.\n",
    "\n",
    "This exercise ensures understanding of:\n",
    "- PyTorch's `Dataset` and `DataLoader`.\n",
    "- Tensor operations for data preprocessing."
   ]
  },
  {
   "cell_type": "code",
   "execution_count": 65,
   "metadata": {},
   "outputs": [
    {
     "name": "stdout",
     "output_type": "stream",
     "text": [
      "tensor([ 9, 13,  5,  9,  3,  2, 12, 19, 10, 14])\n",
      "tensor([-0.0280,  0.6014, -0.6486,  0.0255, -1.0669, -1.2129,  0.4126,  1.7381,\n",
      "         0.0891,  0.9029])\n",
      "tensor([30, 42, 18, 30, 12,  9, 39, 60, 33, 45])\n"
     ]
    }
   ],
   "source": [
    "# step 1: Create Synthetic Data\n",
    "import torch\n",
    "X = torch.randint(0, 20, (500, ))\n",
    "noise = torch.rand(X.size())\n",
    "noisy_X = X + noise\n",
    "mean, std = noisy_X.mean(), noisy_X.std()\n",
    "noisy_X = (noisy_X - mean) / std\n",
    "\n",
    "y = 3 * X + 3\n",
    "print(X[:10])\n",
    "print(noisy_X[:10])\n",
    "print(y[:10])\n"
   ]
  },
  {
   "cell_type": "code",
   "execution_count": 66,
   "metadata": {},
   "outputs": [],
   "source": [
    "# Step 2: Implementa a Custom Dataset\n",
    "from torch.utils.data import Dataset\n",
    "class RegressionDataset(Dataset):\n",
    "    def __init__(self, X, y, transform=None, target_transform=None):\n",
    "        self.X = X\n",
    "        self.y = y\n",
    "        self.transform = transform\n",
    "        self.target_transform = target_transform\n",
    "\n",
    "    def __len__(self):\n",
    "        return len(self.X)\n",
    "    \n",
    "    def __getitem__(self, index):\n",
    "        input = self.X[index]\n",
    "        output = self.y[index]\n",
    "        if self.transform:\n",
    "            input = self.transform(input)\n",
    "        if self.target_transform:\n",
    "            output = self.target_transform(output)\n",
    "        return input, output\n",
    "        "
   ]
  },
  {
   "cell_type": "code",
   "execution_count": 67,
   "metadata": {},
   "outputs": [],
   "source": [
    "train_size = int(len(noisy_X)*0.8)\n",
    "train_data = RegressionDataset(noisy_X[:train_size].type(torch.float), y.type(torch.float))\n",
    "test_data = RegressionDataset(noisy_X[train_size:].type(torch.float), y.type(torch.float))"
   ]
  },
  {
   "cell_type": "code",
   "execution_count": 68,
   "metadata": {},
   "outputs": [],
   "source": [
    "# step 3: use DataLoader\n",
    "from torch.utils.data import DataLoader\n",
    "batch_size = 32\n",
    "train_dataloader = DataLoader(data, batch_size=batch_size, shuffle=True)\n",
    "test_dataloader = DataLoader(test_data, batch_size=batch_size, shuffle=True)"
   ]
  },
  {
   "cell_type": "code",
   "execution_count": 69,
   "metadata": {},
   "outputs": [
    {
     "name": "stdout",
     "output_type": "stream",
     "text": [
      "torch.Size([32]) torch.Size([32])\n"
     ]
    }
   ],
   "source": [
    "train_features, train_target = next(iter(train_dataloader))\n",
    "print(train_features.size(), train_target.size())"
   ]
  }
 ],
 "metadata": {
  "kernelspec": {
   "display_name": "pytorch_training",
   "language": "python",
   "name": "python3"
  },
  "language_info": {
   "codemirror_mode": {
    "name": "ipython",
    "version": 3
   },
   "file_extension": ".py",
   "mimetype": "text/x-python",
   "name": "python",
   "nbconvert_exporter": "python",
   "pygments_lexer": "ipython3",
   "version": "3.12.8"
  }
 },
 "nbformat": 4,
 "nbformat_minor": 2
}
